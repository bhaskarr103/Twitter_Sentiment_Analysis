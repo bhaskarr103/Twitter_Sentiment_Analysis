{
 "cells": [
  {
   "cell_type": "code",
   "execution_count": 9,
   "metadata": {},
   "outputs": [
    {
     "name": "stdout",
     "output_type": "stream",
     "text": [
      "Vocabulary V: ['i', 'sad', 'because', 'learning', 'am', 'not', 'nlp', 'happy']\n"
     ]
    }
   ],
   "source": [
    "import re\n",
    "\n",
    "corpus = [\n",
    "    (\"I am happy because I am learning NLP\", 1),\n",
    "    (\"I am happy\", 1),\n",
    "    ('\"I am sad, I am not learning NLP\"', 0),\n",
    "    (\"I am sad\", 0)\n",
    "]\n",
    "\n",
    "# Tokenization and extracting unique words\n",
    "vocabulary = set()\n",
    "for text, _ in corpus:  # Changed to unpack only the text, ignoring the label\n",
    "    # Tokenize text using regular expression\n",
    "    words = re.findall(r'\\b\\w+\\b', text.lower())  # Access text and then apply lower()\n",
    "    vocabulary.update(words)\n",
    "\n",
    "# Convert set to list for easier indexing\n",
    "vocabulary = list(vocabulary)\n",
    "\n",
    "print(\"Vocabulary V:\", vocabulary)\n"
   ]
  },
  {
   "cell_type": "code",
   "execution_count": 10,
   "metadata": {},
   "outputs": [
    {
     "name": "stdout",
     "output_type": "stream",
     "text": [
      "Positive Tweet Corpus:\n",
      "I am happy because I am learning NLP\n",
      "I am happy\n",
      "\n",
      "Negative Tweet Corpus:\n",
      "\"I am sad, I am not learning NLP\"\n",
      "I am sad\n"
     ]
    }
   ],
   "source": [
    "positive_corpus = []\n",
    "negative_corpus = []\n",
    "\n",
    "for text, label in corpus:\n",
    "    if label == 1:\n",
    "        positive_corpus.append(text)\n",
    "    else:\n",
    "        negative_corpus.append(text)\n",
    "\n",
    "print(\"Positive Tweet Corpus:\")\n",
    "for tweet in positive_corpus:\n",
    "    print(tweet)\n",
    "\n",
    "print(\"\\nNegative Tweet Corpus:\")\n",
    "for tweet in negative_corpus:\n",
    "    print(tweet)"
   ]
  },
  {
   "cell_type": "code",
   "execution_count": 11,
   "metadata": {},
   "outputs": [
    {
     "name": "stdout",
     "output_type": "stream",
     "text": [
      "Positive Frequency:\n",
      "{'i': 3, 'sad': 0, 'because': 1, 'learning': 1, 'am': 3, 'not': 0, 'nlp': 1, 'happy': 2}\n",
      "\n",
      "Negative Frequency:\n",
      "{'i': 3, 'sad': 2, 'because': 0, 'learning': 1, 'am': 3, 'not': 1, 'nlp': 1, 'happy': 0}\n"
     ]
    }
   ],
   "source": [
    "# Vocabulary from previous step\n",
    "\n",
    "\n",
    "positive_frequency = {word: 0 for word in vocabulary}\n",
    "negative_frequency = {word: 0 for word in vocabulary}\n",
    "\n",
    "# Counting positive word frequencies\n",
    "for tweet in positive_corpus:\n",
    "    words = re.findall(r'\\b\\w+\\b', tweet.lower())\n",
    "    for word in words:\n",
    "        if word in positive_frequency:\n",
    "            positive_frequency[word] += 1\n",
    "\n",
    "# Counting negative word frequencies\n",
    "for tweet in negative_corpus:\n",
    "    words = re.findall(r'\\b\\w+\\b', tweet.lower())\n",
    "    for word in words:\n",
    "        if word in negative_frequency:\n",
    "            negative_frequency[word] += 1\n",
    "\n",
    "print(\"Positive Frequency:\")\n",
    "print(positive_frequency)\n",
    "print(\"\\nNegative Frequency:\")\n",
    "print(negative_frequency)\n"
   ]
  },
  {
   "cell_type": "code",
   "execution_count": 16,
   "metadata": {},
   "outputs": [
    {
     "name": "stdout",
     "output_type": "stream",
     "text": [
      "Positive Probabilities:\n",
      "i: 0.21052631578947367\n",
      "sad: 0.05263157894736842\n",
      "because: 0.10526315789473684\n",
      "learning: 0.10526315789473684\n",
      "am: 0.21052631578947367\n",
      "not: 0.05263157894736842\n",
      "nlp: 0.10526315789473684\n",
      "happy: 0.15789473684210525\n",
      "\n",
      "Negative Probabilities:\n",
      "i: 0.21052631578947367\n",
      "sad: 0.15789473684210525\n",
      "because: 0.05263157894736842\n",
      "learning: 0.10526315789473684\n",
      "am: 0.21052631578947367\n",
      "not: 0.10526315789473684\n",
      "nlp: 0.10526315789473684\n",
      "happy: 0.05263157894736842\n"
     ]
    }
   ],
   "source": [
    "# Calculate P(wi | class) for each word in the vocabulary\n",
    "total_positive_words = sum(positive_frequency.values())\n",
    "total_negative_words = sum(negative_frequency.values())\n",
    "\n",
    "# Calculate conditional probabilities\n",
    "positive_probs = {word: (count + 1) / (total_positive_words + len(vocabulary)) for word, count in positive_frequency.items()}\n",
    "negative_probs = {word: (count + 1) / (total_negative_words + len(vocabulary)) for word, count in negative_frequency.items()}\n",
    "\n",
    "# Print positive probabilities\n",
    "print(\"Positive Probabilities:\")\n",
    "for word, prob in positive_probs.items():\n",
    "    print(f\"{word}: {prob}\")\n",
    "\n",
    "# Print negative probabilities\n",
    "print(\"\\nNegative Probabilities:\")\n",
    "for word, prob in negative_probs.items():\n",
    "    print(f\"{word}: {prob}\")\n",
    "\n",
    "\n"
   ]
  },
  {
   "cell_type": "code",
   "execution_count": 17,
   "metadata": {},
   "outputs": [
    {
     "name": "stdout",
     "output_type": "stream",
     "text": [
      "Predicted Sentiment: Positive\n"
     ]
    }
   ],
   "source": [
    "# Given tweet to predict sentiment\n",
    "given_tweet = \"I am happy because I am learning NLP\"\n",
    "\n",
    "# Tokenize the given tweet\n",
    "words_in_tweet = re.findall(r'\\b\\w+\\b', given_tweet.lower())\n",
    "\n",
    "# Calculate the product of ratios\n",
    "product = 1\n",
    "for word in words_in_tweet:\n",
    "    if word in vocabulary:\n",
    "        ratio = positive_probs[word] / negative_probs[word]\n",
    "        product *= ratio\n",
    "\n",
    "# Predict sentiment based on the product\n",
    "predicted_sentiment = \"Positive\" if product > 1 else \"Negative\"\n",
    "\n",
    "print(\"Predicted Sentiment:\", predicted_sentiment)"
   ]
  },
  {
   "cell_type": "code",
   "execution_count": 18,
   "metadata": {},
   "outputs": [
    {
     "name": "stdout",
     "output_type": "stream",
     "text": [
      "Positive Probabilities:\n",
      "i: 0.21052631578947367\n",
      "sad: 0.05263157894736842\n",
      "because: 0.10526315789473684\n",
      "learning: 0.10526315789473684\n",
      "am: 0.21052631578947367\n",
      "not: 0.05263157894736842\n",
      "nlp: 0.10526315789473684\n",
      "happy: 0.15789473684210525\n",
      "\n",
      "Negative Probabilities:\n",
      "i: 0.21052631578947367\n",
      "sad: 0.15789473684210525\n",
      "because: 0.05263157894736842\n",
      "learning: 0.10526315789473684\n",
      "am: 0.21052631578947367\n",
      "not: 0.10526315789473684\n",
      "nlp: 0.10526315789473684\n",
      "happy: 0.05263157894736842\n"
     ]
    }
   ],
   "source": [
    "# Calculate P(wi | class) for each word in the vocabulary with Laplace smoothing\n",
    "total_positive_words = sum(positive_frequency.values())\n",
    "total_negative_words = sum(negative_frequency.values())\n",
    "unique_positive_words = len(positive_frequency)\n",
    "unique_negative_words = len(negative_frequency)\n",
    "\n",
    "# Calculate conditional probabilities with Laplace smoothing\n",
    "positive_probs = {word: (count + 1) / (total_positive_words + unique_positive_words) for word, count in positive_frequency.items()}\n",
    "negative_probs = {word: (count + 1) / (total_negative_words + unique_negative_words) for word, count in negative_frequency.items()}\n",
    "\n",
    "# Print positive probabilities\n",
    "print(\"Positive Probabilities:\")\n",
    "for word, prob in positive_probs.items():\n",
    "    print(f\"{word}: {prob}\")\n",
    "\n",
    "# Print negative probabilities\n",
    "print(\"\\nNegative Probabilities:\")\n",
    "for word, prob in negative_probs.items():\n",
    "    print(f\"{word}: {prob}\")"
   ]
  },
  {
   "cell_type": "code",
   "execution_count": 19,
   "metadata": {},
   "outputs": [
    {
     "name": "stdout",
     "output_type": "stream",
     "text": [
      "Tweet: 'I am happy and learning NLP' - Predicted Sentiment: Positive\n",
      "Tweet: 'I am sad because I am not learning NLP' - Predicted Sentiment: Negative\n"
     ]
    }
   ],
   "source": [
    "# Test tweets\n",
    "test_tweets = [\n",
    "    \"I am happy and learning NLP\",\n",
    "    \"I am sad because I am not learning NLP\"\n",
    "]\n",
    "\n",
    "# Predict sentiment of test tweets\n",
    "for tweet in test_tweets:\n",
    "    words_in_tweet = re.findall(r'\\b\\w+\\b', tweet.lower())\n",
    "    product = 1\n",
    "    for word in words_in_tweet:\n",
    "        if word in vocabulary:\n",
    "            ratio = positive_probs.get(word, 1) / negative_probs.get(word, 1)\n",
    "            product *= ratio\n",
    "    predicted_sentiment = \"Positive\" if product > 1 else \"Negative\"\n",
    "    print(f\"Tweet: '{tweet}' - Predicted Sentiment: {predicted_sentiment}\")"
   ]
  },
  {
   "cell_type": "code",
   "execution_count": 20,
   "metadata": {},
   "outputs": [
    {
     "name": "stdout",
     "output_type": "stream",
     "text": [
      "Tweet: 'I am happy and learning NLP' - Predicted Sentiment: Positive\n",
      "Tweet: 'I am sad because I am not learning NLP' - Predicted Sentiment: Negative\n"
     ]
    }
   ],
   "source": [
    "import math\n",
    "\n",
    "# Test tweets\n",
    "test_tweets = [\n",
    "    \"I am happy and learning NLP\",\n",
    "    \"I am sad because I am not learning NLP\"\n",
    "]\n",
    "\n",
    "# Prior probabilities\n",
    "prior_positive = math.log(len(positive_corpus) / len(corpus))\n",
    "prior_negative = math.log(len(negative_corpus) / len(corpus))\n",
    "\n",
    "# Predict sentiment of test tweets\n",
    "for tweet in test_tweets:\n",
    "    words_in_tweet = re.findall(r'\\b\\w+\\b', tweet.lower())\n",
    "    log_likelihood_positive = prior_positive\n",
    "    log_likelihood_negative = prior_negative\n",
    "    for word in words_in_tweet:\n",
    "        if word in vocabulary:\n",
    "            log_likelihood_positive += positive_probs.get(word, 0)\n",
    "            log_likelihood_negative += negative_probs.get(word, 0)\n",
    "    predicted_sentiment = \"Positive\" if log_likelihood_positive > log_likelihood_negative else \"Negative\"\n",
    "    print(f\"Tweet: '{tweet}' - Predicted Sentiment: {predicted_sentiment}\")"
   ]
  }
 ],
 "metadata": {
  "kernelspec": {
   "display_name": "Python 3",
   "language": "python",
   "name": "python3"
  },
  "language_info": {
   "codemirror_mode": {
    "name": "ipython",
    "version": 3
   },
   "file_extension": ".py",
   "mimetype": "text/x-python",
   "name": "python",
   "nbconvert_exporter": "python",
   "pygments_lexer": "ipython3",
   "version": "3.11.0"
  }
 },
 "nbformat": 4,
 "nbformat_minor": 2
}
